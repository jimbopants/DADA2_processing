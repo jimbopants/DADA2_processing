{
 "cells": [
  {
   "cell_type": "markdown",
   "metadata": {},
   "source": [
    "Written by JG 3/9/18\n",
    "This workbook converts a DADA2 biom generated via the DADA2_processing R markdown notebook  into a qiime compatible biom file.\n",
    "\n",
    "Output:\n",
    "1. QIIME1 compatible biom file: A txt file where rows are ASVs and samples are columns. \n",
    "2. QIIME taxonomy file: A 2 column txt file of ASV ID -> taxonomy string\n",
    "3. Reference Sequence Fasta: Fasta file where headers are ASV IDs and sequences are reference sequences. \n",
    "\n",
    "Usage:\n",
    "Run the import/class definition cell. \n",
    "Input your mapping file\n",
    "\n",
    "It also transfers the sequence data into a separate file and renames the OTUs\n",
    "since often this data isn't necessary.\n",
    "\n"
   ]
  },
  {
   "cell_type": "code",
   "execution_count": 4,
   "metadata": {},
   "outputs": [],
   "source": [
    "# Imports:\n",
    "import pandas as pd\n",
    "import os"
   ]
  },
  {
   "cell_type": "markdown",
   "metadata": {},
   "source": [
    "### Mapping file: Make a dataframe with a column of sample names called \"SampleName\""
   ]
  },
  {
   "cell_type": "code",
   "execution_count": 63,
   "metadata": {},
   "outputs": [],
   "source": [
    "map_df = pd.read_csv('/Users/jimbo/Desktop/Yubo_SCBNR_16S_rnd2/scbnr_round2_map.txt', sep='\\t')\n",
    "map_df['SampleName'] = map_df['Date'].str.replace('/', '.')\n",
    "map_df['SampleName'] = map_df['Reactor'] + \"_\" + map_df['SampleName']\n",
    "map_df.to_csv('/Users/jimbo/Desktop/Yubo_SCBNR_16S_rnd2/scbnr_round2_map.txt', sep='\\t')\n",
    "# Name format used above: R1_MM.DD.YY etc."
   ]
  },
  {
   "cell_type": "code",
   "execution_count": 62,
   "metadata": {},
   "outputs": [],
   "source": [
    "# 10/11/18 SCBNR 16S Data Round 2:\n",
    "scbnr_biom_file = '/Users/jimbo/Desktop/Yubo_SCBNR_16S_rnd2/DADA2_16S_biom.txt'\n",
    "scbnr_biom = DADA_biom(scbnr_biom_file, 'SCBNR2', taxonomy_file= '/Users/jimbo/Desktop/Yubo_SCBNR_16S_rnd2/tax_labels.txt')\n",
    "scbnr_biom.biom.columns = map_df['SampleName']\n",
    "scbnr_biom.write_output_files(\"scbnr_round2_relabeled\")"
   ]
  },
  {
   "cell_type": "code",
   "execution_count": 61,
   "metadata": {},
   "outputs": [],
   "source": [
    "\n",
    "class DADA_biom:\n",
    "    \"\"\" Converts DADA2 biom files to QIIME/other more typical formats.\n",
    "    Methods (Args/Returns):    \n",
    "    Init: \n",
    "        path_in: DADA2-Biom of sample X exact sequence variants (ASVs) \n",
    "    Split_write: Splits biom into two files - fasta sequence file and re-indexed biom file.\n",
    "        file_out: prefix for output files. \n",
    "        Files will be labeled \"{file_out}_biom.txt\" and \"{file_out}_rep_seqs.fasta\"\n",
    "    \"\"\"\n",
    "    def __init__(self, path_in, otu_prefix, taxonomy_file = None):\n",
    "        self.biom = pd.read_csv(path_in, sep='\\t').transpose()\n",
    "        self.path = path_in.rsplit('/',1)[0] \n",
    "        self.sequences = self.biom.index.values\n",
    "        self.biom.index = ['{0}_{1}'.format(otu_prefix, x) for x in range(len(self.biom.index))]\n",
    "        self.sequences_df = pd.DataFrame(index=self.biom.index, data=self.sequences,columns=['RepSeq'])\n",
    "        if taxonomy_file: \n",
    "            self.taxonomy = pd.read_csv(taxonomy_file, sep = '\\t')\n",
    "            self.taxonomy['ID'] = self.biom.index\n",
    "            self.taxonomy.set_index('ID', inplace=True)\n",
    "            self.taxonomy.fillna('', inplace=True)\n",
    "            self.taxonomy['tax_string'] = self.taxonomy[['domain', 'phylum', 'class', 'order', 'family', 'genus', 'species']].apply(lambda x : 'Root;k__{0};p__{1};c__{2};o__{3};f__{4};g__{5};s__{6}'.format(x[0],x[1],x[2],x[3],x[4],x[5],x[6]), axis=1)\n",
    "                                                                        \n",
    "            \n",
    "    def write_output_files(self, file_out):\n",
    "        biom_out = '{0}/{1}_biom.txt'.format(self.path, file_out)\n",
    "        fasta_out = '{0}/{1}_reference.fasta'.format(self.path, file_out)\n",
    "        tax_out = '{0}/{1}_taxonomy.txt'.format(self.path, file_out)\n",
    "        \n",
    "        # Write biom:\n",
    "        self.biom['taxonomy'] = self.taxonomy['tax_string'] \n",
    "        self.biom.to_csv(biom_out, sep='\\t')\n",
    "        # Write ref seqs\n",
    "        with open(fasta_out, 'w') as f:\n",
    "            for ind,seq in self.sequences_df.iterrows():\n",
    "                f.write(\"{0}\\n{1}\\n\".format(ind, seq.RepSeq))\n",
    "        # Write tax:\n",
    "        self.taxonomy.to_csv(tax_out, sep='\\t')\n"
   ]
  },
  {
   "cell_type": "code",
   "execution_count": 5,
   "metadata": {},
   "outputs": [],
   "source": [
    "# Load taxonomy labels:\n",
    "tax_labels = "
   ]
  },
  {
   "cell_type": "code",
   "execution_count": 42,
   "metadata": {},
   "outputs": [],
   "source": [
    "\n",
    "# QIIME style label:\n",
    "\n",
    "   "
   ]
  },
  {
   "cell_type": "code",
   "execution_count": 37,
   "metadata": {},
   "outputs": [],
   "source": [
    " \n",
    "        # Fixed names\n",
    "                \n",
    "        \n",
    "        \n",
    "        #self.write_seqs(fasta_out, otu_prefix)\n",
    "        \n",
    "        \n",
    "    def write_seqs(self, file_out, otu_prefix):\n",
    "        \"\"\" Writes sequences to a new fasta file\"\"\"\n",
    "        ind=0\n",
    "        with open(file_out, 'w') as f:\n",
    "            for i in self.df.index:\n",
    "                header = '>{0}_{1}\\n'.format(otu_prefix, ind)\n",
    "                f.write(header)\n",
    "                f.write(i+'\\n')\n",
    "                ind+=1\n",
    "    \n",
    "    update_biom_labels(self, file_out, otu_prefix):\n",
    "        # Relabel ASVs with prefix_#:\n",
    "                \n",
    "        \n",
    "        \n",
    "        biom_out  = \n",
    "        \n",
    "        #fasta_out = '{0}/{1}_rep_seqs.fasta'.format(self.path, file_out)\n",
    "    \n",
    "\n",
    "\n",
    "    "
   ]
  },
  {
   "cell_type": "code",
   "execution_count": 4,
   "metadata": {},
   "outputs": [],
   "source": []
  },
  {
   "cell_type": "code",
   "execution_count": 52,
   "metadata": {},
   "outputs": [
    {
     "data": {
      "text/plain": [
       "'Root;k__Bacteria;p__Bacteroidetes;c__Ignavibacteria;o__Ignavibacteriales;f__PHOS-HE36;g__;s__'"
      ]
     },
     "execution_count": 52,
     "metadata": {},
     "output_type": "execute_result"
    }
   ],
   "source": [
    "scbnr_biom.taxonomy.tax_string[0]"
   ]
  },
  {
   "cell_type": "code",
   "execution_count": 46,
   "metadata": {},
   "outputs": [
    {
     "data": {
      "text/plain": [
       "'Root;k__Bacteria;p__Bacteroidetes;c__Ignavibacteria;o__Ignavibacteriales;f__PHOS-HE36;g__nan;s__nan'"
      ]
     },
     "execution_count": 46,
     "metadata": {},
     "output_type": "execute_result"
    }
   ],
   "source": [
    "scbnr_biom.taxonomy.tax_string[0]"
   ]
  },
  {
   "cell_type": "code",
   "execution_count": null,
   "metadata": {},
   "outputs": [],
   "source": []
  }
 ],
 "metadata": {
  "kernelspec": {
   "display_name": "Python 3",
   "language": "python",
   "name": "python3"
  },
  "language_info": {
   "codemirror_mode": {
    "name": "ipython",
    "version": 3
   },
   "file_extension": ".py",
   "mimetype": "text/x-python",
   "name": "python",
   "nbconvert_exporter": "python",
   "pygments_lexer": "ipython3",
   "version": "3.6.6"
  }
 },
 "nbformat": 4,
 "nbformat_minor": 2
}
