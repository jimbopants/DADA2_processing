{
 "cells": [
  {
   "cell_type": "code",
   "execution_count": 1,
   "metadata": {},
   "outputs": [],
   "source": [
    "# JG 3/9/18\n",
    "# This workbook converts a DADA2 biom generated via their tutorial \n",
    "# into a qiime compatible biom file.\n",
    "# It also transfers the sequence data into a separate file and renames the OTUs\n",
    "# since often this data isn't necessary.\n",
    "\n",
    "# Imports:\n",
    "import pandas as pd"
   ]
  },
  {
   "cell_type": "code",
   "execution_count": 3,
   "metadata": {},
   "outputs": [],
   "source": [
    "# Previous uses of this script:\n",
    "\n",
    "# Date: 3/9/18\n",
    "# Sequence data: AmoA and nxrB biom files\n",
    "\n",
    "nxrb_file = '/Users/jimbo/Desktop/SCBNR_reseq/reseq_nxrB/DADA2/DADA2_nxrB_biom.txt'\n",
    "amoa_file = '/Users/jimbo/Downloads/reseq_amoA/DADA2/DADA2_amoA_biom.txt'\n",
    "\n",
    "#nxrb_biom = DADA_biom(nxrb_file)\n",
    "#nxrb_biom.split_write('nxrB_relabeled', 'nxrB')\n",
    "\n",
    "amoa_biom = DADA_biom(amoa_file)\n",
    "amoa_biom.split_write('amoa_relabeled', 'amoA')"
   ]
  },
  {
   "cell_type": "code",
   "execution_count": 2,
   "metadata": {},
   "outputs": [],
   "source": [
    "# Class for manipulating biom file:\n",
    "\n",
    "class DADA_biom:\n",
    "    \"\"\" A class for storing and converting DADA2 biom files to QIIME/other more typical formats.\n",
    "Methods (Args/Returns):    \n",
    "    Init: \n",
    "        path_in: Biome file with rows as samples and columns as exact sequence variants\n",
    "        \n",
    "    Split_write: Splits biom into two files - fasta sequence file and re-indexed biom file.\n",
    "        file_out: prefix for output files. \n",
    "        Files will be labeled \"{file_out}_biom.txt\" and \"{file_out}_rep_seqs.fasta\"\n",
    "    \"\"\"\n",
    "    def __init__(self, path_in):\n",
    "        self.df = pd.read_csv(path_in, sep='\\t')\n",
    "        self.df = self.df.transpose()\n",
    "        self.path = path_in.rsplit('/',1)[0]\n",
    "        \n",
    "    def split_write(self, file_out, otu_prefix):\n",
    "        # Fixed names\n",
    "        biom_out  = '{0}/{1}_biom2.txt'.format(self.path, file_out)\n",
    "        fasta_out = '{0}/{1}_rep_seqs.fasta'.format(self.path, file_out)\n",
    "        \n",
    "        # Write fasta sequences\n",
    "        self.write_seqs(fasta_out, otu_prefix)\n",
    "        \n",
    "        # Write new biom\n",
    "        old_index = self.df.index\n",
    "        new_index = ['{0}_{1}'.format(otu_prefix, x) for x in range(len(self.df.index))]\n",
    "        self.df.index = new_index\n",
    "        self.df.to_csv(biom_out, sep='\\t')\n",
    "        \n",
    "    def write_seqs(self, file_out, otu_prefix):\n",
    "        \"\"\" Writes sequences to a new fasta file\"\"\"\n",
    "        ind=0\n",
    "        with open(file_out, 'w') as f:\n",
    "            for i in self.df.index:\n",
    "                header = '>{0}_{1}\\n'.format(otu_prefix, ind)\n",
    "                f.write(header)\n",
    "                f.write(i+'\\n')\n",
    "                ind+=1\n",
    "    \n",
    "\n",
    "\n",
    "    "
   ]
  },
  {
   "cell_type": "code",
   "execution_count": null,
   "metadata": {},
   "outputs": [],
   "source": []
  }
 ],
 "metadata": {
  "kernelspec": {
   "display_name": "Python 3",
   "language": "python",
   "name": "python3"
  },
  "language_info": {
   "codemirror_mode": {
    "name": "ipython",
    "version": 3
   },
   "file_extension": ".py",
   "mimetype": "text/x-python",
   "name": "python",
   "nbconvert_exporter": "python",
   "pygments_lexer": "ipython3",
   "version": "3.5.4"
  }
 },
 "nbformat": 4,
 "nbformat_minor": 2
}
